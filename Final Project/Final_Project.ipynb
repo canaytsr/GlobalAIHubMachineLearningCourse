{
  "nbformat": 4,
  "nbformat_minor": 0,
  "metadata": {
    "colab": {
      "name": "Final_Project.ipynb",
      "provenance": [],
      "collapsed_sections": [],
      "include_colab_link": true
    },
    "kernelspec": {
      "name": "python3",
      "display_name": "Python 3"
    },
    "language_info": {
      "name": "python"
    }
  },
  "cells": [
    {
      "cell_type": "markdown",
      "metadata": {
        "id": "view-in-github",
        "colab_type": "text"
      },
      "source": [
        "<a href=\"https://colab.research.google.com/github/canaytsr/GlobalAIHubMachineLearningCourse/blob/main/Final%20Project/Final_Project.ipynb\" target=\"_parent\"><img src=\"https://colab.research.google.com/assets/colab-badge.svg\" alt=\"Open In Colab\"/></a>"
      ]
    },
    {
      "cell_type": "markdown",
      "metadata": {
        "id": "1NBG-VX0htbQ"
      },
      "source": [
        "# **Final Project**\n",
        "In this project, our aim is to building a model for predicting dimond prices. Our label (output) will be price column. \n",
        "Do not forget, this is a Classification problem!\n",
        "\n",
        "# **Content**\n",
        "\n",
        "carat: weight of the diamond (0.2--5.01)\n",
        "\n",
        "cut: quality of the cut (Fair, Good, Very Good, Premium, Ideal)\n",
        "\n",
        "color: diamond colour, from J (worst) to D (best)\n",
        "\n",
        "clarity: a measurement of how clear the diamond is (I1 (worst), SI2, SI1, VS2, VS1, VVS2, VVS1, IF (best))\n",
        "\n",
        "x: length in mm (0--10.74)\n",
        "\n",
        "y: width in mm (0--58.9)\n",
        "\n",
        "z: depth in mm (0--31.8)\n",
        "\n",
        "depth: total depth percentage = z / mean(x, y) = 2 * z / (x + y) (43--79)\n",
        "\n",
        "table: width of top of diamond relative to widest point (43--95)\n",
        "\n",
        "# **Steps**\n",
        "\n",
        "* Read the diamonds.csv file and describe it.\n",
        "* Make at least 4 different analysis on Exploratory Data Analysis section.\n",
        "* Pre-process the dataset to get ready for ML application. (Check missing data and handle them, can we need to do scaling or feature extraction etc.)\n",
        "* Define appropriate evaluation metric for our case (classification). Hint: Is there any imbalanced problem in the label column?\n",
        "* Split the dataset into train and test set. (Consider the imbalanced problem if is there any). Check the distribution of labels in the subsets (train and test).\n",
        "* Train and evaluate Decision Trees and at least 2 different appropriate algorithm which you can choose from scikit-learn library.\n",
        "* Is there any overfitting and underfitting? Interpret your results and try to overcome if there is any problem in a new section.\n",
        "* Create confusion metrics for each algorithm and display Accuracy, Recall, Precision and F1-Score values.\n",
        "* Analyse and compare results of 3 algorithms.\n",
        "* Select best performing model based on evaluation metric you chose on test dataset.\n",
        "Good luck :)\n",
        "\n",
        "## **CANAY TAŞAR**\n",
        "\n",
        "\n",
        "#**DATA**"
      ]
    },
    {
      "cell_type": "code",
      "metadata": {
        "colab": {
          "base_uri": "https://localhost:8080/"
        },
        "id": "4aQ80A8qhmG7",
        "outputId": "4c281b97-0771-4c0c-93e6-a6e48891851a"
      },
      "source": [
        "import pandas as pd\n",
        "import seaborn as sns\n",
        "import numpy as np\n",
        "import matplotlib.pyplot as plt\n",
        "\n",
        "# Read csv\n",
        "\n",
        "data = pd.read_csv('https://raw.githubusercontent.com/canaytsr/GlobalAIHubMachineLearningCourse/main/Final%20Project/dimonds.csv')\n",
        "d_set=data.copy()\n",
        "data.head\n",
        "\n"
      ],
      "execution_count": 456,
      "outputs": [
        {
          "output_type": "execute_result",
          "data": {
            "text/plain": [
              "<bound method NDFrame.head of        index  carat        cut color clarity  ...  table     x     y     z     price\n",
              "0          1   0.23      Ideal     E     SI2  ...   55.0  3.95  3.98  2.43  Very Low\n",
              "1          2   0.21    Premium     E     SI1  ...   61.0  3.89  3.84  2.31  Very Low\n",
              "2          3   0.23       Good     E     VS1  ...   65.0  4.05  4.07  2.31  Very Low\n",
              "3          4   0.29    Premium     I     VS2  ...   58.0  4.20  4.23  2.63  Very Low\n",
              "4          5   0.31       Good     J     SI2  ...   58.0  4.34  4.35  2.75  Very Low\n",
              "...      ...    ...        ...   ...     ...  ...    ...   ...   ...   ...       ...\n",
              "53935  53936   0.72      Ideal     D     SI1  ...   57.0  5.75  5.76  3.50  Very Low\n",
              "53936  53937   0.72       Good     D     SI1  ...   55.0  5.69  5.75  3.61  Very Low\n",
              "53937  53938   0.70  Very Good     D     SI1  ...   60.0  5.66  5.68  3.56  Very Low\n",
              "53938  53939   0.86    Premium     H     SI2  ...   58.0  6.15  6.12  3.74  Very Low\n",
              "53939  53940   0.75      Ideal     D     SI2  ...   55.0  5.83  5.87  3.64  Very Low\n",
              "\n",
              "[53940 rows x 11 columns]>"
            ]
          },
          "metadata": {
            "tags": []
          },
          "execution_count": 456
        }
      ]
    },
    {
      "cell_type": "code",
      "metadata": {
        "colab": {
          "base_uri": "https://localhost:8080/"
        },
        "id": "BI9-Cq_mPlxr",
        "outputId": "b574e460-11e5-46d2-8399-9fc2491a4adf"
      },
      "source": [
        "print(\"Cut: \",set(data[\"cut\"]))\n",
        "print(\"Color: \",set(data[\"color\"]))\n",
        "print(\"Clarity: \",set(data[\"clarity\"]))"
      ],
      "execution_count": 315,
      "outputs": [
        {
          "output_type": "stream",
          "text": [
            "Cut:  {'Ideal', 'Premium', 'Fair', 'Good', 'Very Good'}\n",
            "Color:  {'D', 'F', 'I', 'J', 'G', 'H', 'E'}\n",
            "Clarity:  {'VVS1', 'SI2', 'VS1', 'I1', 'VVS2', 'IF', 'SI1', 'VS2'}\n"
          ],
          "name": "stdout"
        }
      ]
    },
    {
      "cell_type": "code",
      "metadata": {
        "colab": {
          "base_uri": "https://localhost:8080/"
        },
        "id": "KABL9iKwmOce",
        "outputId": "47637ce2-810f-4544-d46e-58d719aded13"
      },
      "source": [
        "# Describe our data for each feature and use .info() for get information about our dataset\n",
        "# Analyse missing values\n",
        "\n",
        "print(data.describe())\n",
        "print(data.info())\n",
        "print(data.dropna())\n",
        "print(data.isnull().sum())\n",
        "\n"
      ],
      "execution_count": 317,
      "outputs": [
        {
          "output_type": "stream",
          "text": [
            "              index         carat  ...             y             z\n",
            "count  53940.000000  53940.000000  ...  53940.000000  53940.000000\n",
            "mean   26970.500000      0.797940  ...      5.734526      3.538734\n",
            "std    15571.281097      0.474011  ...      1.142135      0.705699\n",
            "min        1.000000      0.200000  ...      0.000000      0.000000\n",
            "25%    13485.750000      0.400000  ...      4.720000      2.910000\n",
            "50%    26970.500000      0.700000  ...      5.710000      3.530000\n",
            "75%    40455.250000      1.040000  ...      6.540000      4.040000\n",
            "max    53940.000000      5.010000  ...     58.900000     31.800000\n",
            "\n",
            "[8 rows x 7 columns]\n",
            "<class 'pandas.core.frame.DataFrame'>\n",
            "RangeIndex: 53940 entries, 0 to 53939\n",
            "Data columns (total 11 columns):\n",
            " #   Column   Non-Null Count  Dtype  \n",
            "---  ------   --------------  -----  \n",
            " 0   index    53940 non-null  int64  \n",
            " 1   carat    53940 non-null  float64\n",
            " 2   cut      53940 non-null  object \n",
            " 3   color    53940 non-null  object \n",
            " 4   clarity  53940 non-null  object \n",
            " 5   depth    53940 non-null  float64\n",
            " 6   table    53940 non-null  float64\n",
            " 7   x        53940 non-null  float64\n",
            " 8   y        53940 non-null  float64\n",
            " 9   z        53940 non-null  float64\n",
            " 10  price    53940 non-null  object \n",
            "dtypes: float64(6), int64(1), object(4)\n",
            "memory usage: 4.5+ MB\n",
            "None\n",
            "       index  carat        cut color clarity  ...  table     x     y     z     price\n",
            "0          1   0.23      Ideal     E     SI2  ...   55.0  3.95  3.98  2.43  Very Low\n",
            "1          2   0.21    Premium     E     SI1  ...   61.0  3.89  3.84  2.31  Very Low\n",
            "2          3   0.23       Good     E     VS1  ...   65.0  4.05  4.07  2.31  Very Low\n",
            "3          4   0.29    Premium     I     VS2  ...   58.0  4.20  4.23  2.63  Very Low\n",
            "4          5   0.31       Good     J     SI2  ...   58.0  4.34  4.35  2.75  Very Low\n",
            "...      ...    ...        ...   ...     ...  ...    ...   ...   ...   ...       ...\n",
            "53935  53936   0.72      Ideal     D     SI1  ...   57.0  5.75  5.76  3.50  Very Low\n",
            "53936  53937   0.72       Good     D     SI1  ...   55.0  5.69  5.75  3.61  Very Low\n",
            "53937  53938   0.70  Very Good     D     SI1  ...   60.0  5.66  5.68  3.56  Very Low\n",
            "53938  53939   0.86    Premium     H     SI2  ...   58.0  6.15  6.12  3.74  Very Low\n",
            "53939  53940   0.75      Ideal     D     SI2  ...   55.0  5.83  5.87  3.64  Very Low\n",
            "\n",
            "[53940 rows x 11 columns]\n",
            "index      0\n",
            "carat      0\n",
            "cut        0\n",
            "color      0\n",
            "clarity    0\n",
            "depth      0\n",
            "table      0\n",
            "x          0\n",
            "y          0\n",
            "z          0\n",
            "price      0\n",
            "dtype: int64\n"
          ],
          "name": "stdout"
        }
      ]
    },
    {
      "cell_type": "code",
      "metadata": {
        "colab": {
          "base_uri": "https://localhost:8080/"
        },
        "id": "6fyuW7XogqMg",
        "outputId": "d3ae9bcf-a05b-44ea-fb6d-ca21c76fc591"
      },
      "source": [
        "data.isnull().values.any()"
      ],
      "execution_count": 428,
      "outputs": [
        {
          "output_type": "execute_result",
          "data": {
            "text/plain": [
              "False"
            ]
          },
          "metadata": {
            "tags": []
          },
          "execution_count": 428
        }
      ]
    },
    {
      "cell_type": "markdown",
      "metadata": {
        "id": "07JxaFlNmYqf"
      },
      "source": [
        "# **Exploratory Data Analysis**"
      ]
    },
    {
      "cell_type": "code",
      "metadata": {
        "colab": {
          "base_uri": "https://localhost:8080/",
          "height": 334
        },
        "id": "crtTBd6RmYFa",
        "outputId": "d8400244-78fe-46f2-cd63-084111ccee0e"
      },
      "source": [
        "# Our label Distribution (countplot)\n",
        "\n",
        "from plotly.offline import iplot\n",
        "import plotly.graph_objs as go\n",
        "from pandas.plotting import scatter_matrix\n",
        "\n",
        "plt.figure(figsize=(6, 5))\n",
        "sns.countplot(x ='price', data = data)\n",
        "plt.show()"
      ],
      "execution_count": 318,
      "outputs": [
        {
          "output_type": "display_data",
          "data": {
            "image/png": "[encoded data removed]",
            "text/plain": [
              "<Figure size 432x360 with 1 Axes>"
            ]
          },
          "metadata": {
            "tags": [],
            "needs_background": "light"
          }
        }
      ]
    },
    {
      "cell_type": "code",
      "metadata": {
        "colab": {
          "base_uri": "https://localhost:8080/",
          "height": 370
        },
        "id": "0UHDS2-sovnm",
        "outputId": "ff1bd449-579e-407a-f50b-aa0d04359ff0"
      },
      "source": [
        "# Example EDA (distplot)\n",
        "sns.distplot(data['table'])             \n",
        "plt.show()"
      ],
      "execution_count": 319,
      "outputs": [
        {
          "output_type": "stream",
          "text": [
            "/usr/local/lib/python3.7/dist-packages/seaborn/distributions.py:2557: FutureWarning:\n",
            "\n",
            "`distplot` is a deprecated function and will be removed in a future version. Please adapt your code to use either `displot` (a figure-level function with similar flexibility) or `histplot` (an axes-level function for histograms).\n",
            "\n"
          ],
          "name": "stderr"
        },
        {
          "output_type": "display_data",
          "data": {
            "image/png": "[encoded data removed]",
            "text/plain": [
              "<Figure size 432x288 with 1 Axes>"
            ]
          },
          "metadata": {
            "tags": [],
            "needs_background": "light"
          }
        }
      ]
    },
    {
      "cell_type": "code",
      "metadata": {
        "colab": {
          "base_uri": "https://localhost:8080/",
          "height": 279
        },
        "id": "LPBSLRiGsVqs",
        "outputId": "791ec447-8693-4a83-cb92-66bb3a4765fa"
      },
      "source": [
        "sns.histplot(data['price'])             \n",
        "plt.show()"
      ],
      "execution_count": 320,
      "outputs": [
        {
          "output_type": "display_data",
          "data": {
            "image/png": "[encoded data removed]",
            "text/plain": [
              "<Figure size 432x288 with 1 Axes>"
            ]
          },
          "metadata": {
            "tags": [],
            "needs_background": "light"
          }
        }
      ]
    },
    {
      "cell_type": "code",
      "metadata": {
        "colab": {
          "base_uri": "https://localhost:8080/",
          "height": 367
        },
        "id": "mFypxccKs5h3",
        "outputId": "a657db5b-8cbb-4857-dbbc-5704a5fe8ee1"
      },
      "source": [
        "#EDA using scatterplot\n",
        "sns.scatterplot(\"color\",\"depth\",data=data);"
      ],
      "execution_count": 322,
      "outputs": [
        {
          "output_type": "stream",
          "text": [
            "/usr/local/lib/python3.7/dist-packages/seaborn/_decorators.py:43: FutureWarning:\n",
            "\n",
            "Pass the following variables as keyword args: x, y. From version 0.12, the only valid positional argument will be `data`, and passing other arguments without an explicit keyword will result in an error or misinterpretation.\n",
            "\n"
          ],
          "name": "stderr"
        },
        {
          "output_type": "display_data",
          "data": {
            "image/png": "[encoded data removed]",
            "text/plain": [
              "<Figure size 432x288 with 1 Axes>"
            ]
          },
          "metadata": {
            "tags": [],
            "needs_background": "light"
          }
        }
      ]
    },
    {
      "cell_type": "code",
      "metadata": {
        "colab": {
          "base_uri": "https://localhost:8080/",
          "height": 450
        },
        "id": "PXuMFyMEFIRg",
        "outputId": "f2781428-819f-4391-b02f-eb0b15d6fd0f"
      },
      "source": [
        "data.groupby(by=\"carat\").count()"
      ],
      "execution_count": 323,
      "outputs": [
        {
          "output_type": "execute_result",
          "data": {
            "text/html": [
              "<div>\n",
              "<style scoped>\n",
              "    .dataframe tbody tr th:only-of-type {\n",
              "        vertical-align: middle;\n",
              "    }\n",
              "\n",
              "    .dataframe tbody tr th {\n",
              "        vertical-align: top;\n",
              "    }\n",
              "\n",
              "    .dataframe thead th {\n",
              "        text-align: right;\n",
              "    }\n",
              "</style>\n",
              "<table border=\"1\" class=\"dataframe\">\n",
              "  <thead>\n",
              "    <tr style=\"text-align: right;\">\n",
              "      <th></th>\n",
              "      <th>index</th>\n",
              "      <th>cut</th>\n",
              "      <th>color</th>\n",
              "      <th>clarity</th>\n",
              "      <th>depth</th>\n",
              "      <th>table</th>\n",
              "      <th>x</th>\n",
              "      <th>y</th>\n",
              "      <th>z</th>\n",
              "      <th>price</th>\n",
              "    </tr>\n",
              "    <tr>\n",
              "      <th>carat</th>\n",
              "      <th></th>\n",
              "      <th></th>\n",
              "      <th></th>\n",
              "      <th></th>\n",
              "      <th></th>\n",
              "      <th></th>\n",
              "      <th></th>\n",
              "      <th></th>\n",
              "      <th></th>\n",
              "      <th></th>\n",
              "    </tr>\n",
              "  </thead>\n",
              "  <tbody>\n",
              "    <tr>\n",
              "      <th>0.20</th>\n",
              "      <td>12</td>\n",
              "      <td>12</td>\n",
              "      <td>12</td>\n",
              "      <td>12</td>\n",
              "      <td>12</td>\n",
              "      <td>12</td>\n",
              "      <td>12</td>\n",
              "      <td>12</td>\n",
              "      <td>12</td>\n",
              "      <td>12</td>\n",
              "    </tr>\n",
              "    <tr>\n",
              "      <th>0.21</th>\n",
              "      <td>9</td>\n",
              "      <td>9</td>\n",
              "      <td>9</td>\n",
              "      <td>9</td>\n",
              "      <td>9</td>\n",
              "      <td>9</td>\n",
              "      <td>9</td>\n",
              "      <td>9</td>\n",
              "      <td>9</td>\n",
              "      <td>9</td>\n",
              "    </tr>\n",
              "    <tr>\n",
              "      <th>0.22</th>\n",
              "      <td>5</td>\n",
              "      <td>5</td>\n",
              "      <td>5</td>\n",
              "      <td>5</td>\n",
              "      <td>5</td>\n",
              "      <td>5</td>\n",
              "      <td>5</td>\n",
              "      <td>5</td>\n",
              "      <td>5</td>\n",
              "      <td>5</td>\n",
              "    </tr>\n",
              "    <tr>\n",
              "      <th>0.23</th>\n",
              "      <td>293</td>\n",
              "      <td>293</td>\n",
              "      <td>293</td>\n",
              "      <td>293</td>\n",
              "      <td>293</td>\n",
              "      <td>293</td>\n",
              "      <td>293</td>\n",
              "      <td>293</td>\n",
              "      <td>293</td>\n",
              "      <td>293</td>\n",
              "    </tr>\n",
              "    <tr>\n",
              "      <th>0.24</th>\n",
              "      <td>254</td>\n",
              "      <td>254</td>\n",
              "      <td>254</td>\n",
              "      <td>254</td>\n",
              "      <td>254</td>\n",
              "      <td>254</td>\n",
              "      <td>254</td>\n",
              "      <td>254</td>\n",
              "      <td>254</td>\n",
              "      <td>254</td>\n",
              "    </tr>\n",
              "    <tr>\n",
              "      <th>...</th>\n",
              "      <td>...</td>\n",
              "      <td>...</td>\n",
              "      <td>...</td>\n",
              "      <td>...</td>\n",
              "      <td>...</td>\n",
              "      <td>...</td>\n",
              "      <td>...</td>\n",
              "      <td>...</td>\n",
              "      <td>...</td>\n",
              "      <td>...</td>\n",
              "    </tr>\n",
              "    <tr>\n",
              "      <th>4.00</th>\n",
              "      <td>1</td>\n",
              "      <td>1</td>\n",
              "      <td>1</td>\n",
              "      <td>1</td>\n",
              "      <td>1</td>\n",
              "      <td>1</td>\n",
              "      <td>1</td>\n",
              "      <td>1</td>\n",
              "      <td>1</td>\n",
              "      <td>1</td>\n",
              "    </tr>\n",
              "    <tr>\n",
              "      <th>4.01</th>\n",
              "      <td>2</td>\n",
              "      <td>2</td>\n",
              "      <td>2</td>\n",
              "      <td>2</td>\n",
              "      <td>2</td>\n",
              "      <td>2</td>\n",
              "      <td>2</td>\n",
              "      <td>2</td>\n",
              "      <td>2</td>\n",
              "      <td>2</td>\n",
              "    </tr>\n",
              "    <tr>\n",
              "      <th>4.13</th>\n",
              "      <td>1</td>\n",
              "      <td>1</td>\n",
              "      <td>1</td>\n",
              "      <td>1</td>\n",
              "      <td>1</td>\n",
              "      <td>1</td>\n",
              "      <td>1</td>\n",
              "      <td>1</td>\n",
              "      <td>1</td>\n",
              "      <td>1</td>\n",
              "    </tr>\n",
              "    <tr>\n",
              "      <th>4.50</th>\n",
              "      <td>1</td>\n",
              "      <td>1</td>\n",
              "      <td>1</td>\n",
              "      <td>1</td>\n",
              "      <td>1</td>\n",
              "      <td>1</td>\n",
              "      <td>1</td>\n",
              "      <td>1</td>\n",
              "      <td>1</td>\n",
              "      <td>1</td>\n",
              "    </tr>\n",
              "    <tr>\n",
              "      <th>5.01</th>\n",
              "      <td>1</td>\n",
              "      <td>1</td>\n",
              "      <td>1</td>\n",
              "      <td>1</td>\n",
              "      <td>1</td>\n",
              "      <td>1</td>\n",
              "      <td>1</td>\n",
              "      <td>1</td>\n",
              "      <td>1</td>\n",
              "      <td>1</td>\n",
              "    </tr>\n",
              "  </tbody>\n",
              "</table>\n",
              "<p>273 rows × 10 columns</p>\n",
              "</div>"
            ],
            "text/plain": [
              "       index  cut  color  clarity  depth  table    x    y    z  price\n",
              "carat                                                                \n",
              "0.20      12   12     12       12     12     12   12   12   12     12\n",
              "0.21       9    9      9        9      9      9    9    9    9      9\n",
              "0.22       5    5      5        5      5      5    5    5    5      5\n",
              "0.23     293  293    293      293    293    293  293  293  293    293\n",
              "0.24     254  254    254      254    254    254  254  254  254    254\n",
              "...      ...  ...    ...      ...    ...    ...  ...  ...  ...    ...\n",
              "4.00       1    1      1        1      1      1    1    1    1      1\n",
              "4.01       2    2      2        2      2      2    2    2    2      2\n",
              "4.13       1    1      1        1      1      1    1    1    1      1\n",
              "4.50       1    1      1        1      1      1    1    1    1      1\n",
              "5.01       1    1      1        1      1      1    1    1    1      1\n",
              "\n",
              "[273 rows x 10 columns]"
            ]
          },
          "metadata": {
            "tags": []
          },
          "execution_count": 323
        }
      ]
    },
    {
      "cell_type": "markdown",
      "metadata": {
        "id": "ScT3My4Xq7-8"
      },
      "source": [
        "# **Preprocessing**\n",
        "\n",
        "Are there any duplicated values?\n",
        "\n",
        "Do we need to do feature scaling?\n",
        "\n",
        "Do we need to generate new features?\n",
        "\n",
        "Split dataset into train and test sets. (0.7/0.3)"
      ]
    },
    {
      "cell_type": "code",
      "metadata": {
        "colab": {
          "base_uri": "https://localhost:8080/",
          "height": 419
        },
        "id": "HWQuJV9VrNhU",
        "outputId": "48821f25-2c66-4948-d024-8fda1866c082"
      },
      "source": [
        "#Are there any duplicated values?\n",
        "data.drop_duplicates()"
      ],
      "execution_count": 324,
      "outputs": [
        {
          "output_type": "execute_result",
          "data": {
            "text/html": [
              "<div>\n",
              "<style scoped>\n",
              "    .dataframe tbody tr th:only-of-type {\n",
              "        vertical-align: middle;\n",
              "    }\n",
              "\n",
              "    .dataframe tbody tr th {\n",
              "        vertical-align: top;\n",
              "    }\n",
              "\n",
              "    .dataframe thead th {\n",
              "        text-align: right;\n",
              "    }\n",
              "</style>\n",
              "<table border=\"1\" class=\"dataframe\">\n",
              "  <thead>\n",
              "    <tr style=\"text-align: right;\">\n",
              "      <th></th>\n",
              "      <th>index</th>\n",
              "      <th>carat</th>\n",
              "      <th>cut</th>\n",
              "      <th>color</th>\n",
              "      <th>clarity</th>\n",
              "      <th>depth</th>\n",
              "      <th>table</th>\n",
              "      <th>x</th>\n",
              "      <th>y</th>\n",
              "      <th>z</th>\n",
              "      <th>price</th>\n",
              "    </tr>\n",
              "  </thead>\n",
              "  <tbody>\n",
              "    <tr>\n",
              "      <th>0</th>\n",
              "      <td>1</td>\n",
              "      <td>0.23</td>\n",
              "      <td>Ideal</td>\n",
              "      <td>E</td>\n",
              "      <td>SI2</td>\n",
              "      <td>61.5</td>\n",
              "      <td>55.0</td>\n",
              "      <td>3.95</td>\n",
              "      <td>3.98</td>\n",
              "      <td>2.43</td>\n",
              "      <td>Very Low</td>\n",
              "    </tr>\n",
              "    <tr>\n",
              "      <th>1</th>\n",
              "      <td>2</td>\n",
              "      <td>0.21</td>\n",
              "      <td>Premium</td>\n",
              "      <td>E</td>\n",
              "      <td>SI1</td>\n",
              "      <td>59.8</td>\n",
              "      <td>61.0</td>\n",
              "      <td>3.89</td>\n",
              "      <td>3.84</td>\n",
              "      <td>2.31</td>\n",
              "      <td>Very Low</td>\n",
              "    </tr>\n",
              "    <tr>\n",
              "      <th>2</th>\n",
              "      <td>3</td>\n",
              "      <td>0.23</td>\n",
              "      <td>Good</td>\n",
              "      <td>E</td>\n",
              "      <td>VS1</td>\n",
              "      <td>56.9</td>\n",
              "      <td>65.0</td>\n",
              "      <td>4.05</td>\n",
              "      <td>4.07</td>\n",
              "      <td>2.31</td>\n",
              "      <td>Very Low</td>\n",
              "    </tr>\n",
              "    <tr>\n",
              "      <th>3</th>\n",
              "      <td>4</td>\n",
              "      <td>0.29</td>\n",
              "      <td>Premium</td>\n",
              "      <td>I</td>\n",
              "      <td>VS2</td>\n",
              "      <td>62.4</td>\n",
              "      <td>58.0</td>\n",
              "      <td>4.20</td>\n",
              "      <td>4.23</td>\n",
              "      <td>2.63</td>\n",
              "      <td>Very Low</td>\n",
              "    </tr>\n",
              "    <tr>\n",
              "      <th>4</th>\n",
              "      <td>5</td>\n",
              "      <td>0.31</td>\n",
              "      <td>Good</td>\n",
              "      <td>J</td>\n",
              "      <td>SI2</td>\n",
              "      <td>63.3</td>\n",
              "      <td>58.0</td>\n",
              "      <td>4.34</td>\n",
              "      <td>4.35</td>\n",
              "      <td>2.75</td>\n",
              "      <td>Very Low</td>\n",
              "    </tr>\n",
              "    <tr>\n",
              "      <th>...</th>\n",
              "      <td>...</td>\n",
              "      <td>...</td>\n",
              "      <td>...</td>\n",
              "      <td>...</td>\n",
              "      <td>...</td>\n",
              "      <td>...</td>\n",
              "      <td>...</td>\n",
              "      <td>...</td>\n",
              "      <td>...</td>\n",
              "      <td>...</td>\n",
              "      <td>...</td>\n",
              "    </tr>\n",
              "    <tr>\n",
              "      <th>53935</th>\n",
              "      <td>53936</td>\n",
              "      <td>0.72</td>\n",
              "      <td>Ideal</td>\n",
              "      <td>D</td>\n",
              "      <td>SI1</td>\n",
              "      <td>60.8</td>\n",
              "      <td>57.0</td>\n",
              "      <td>5.75</td>\n",
              "      <td>5.76</td>\n",
              "      <td>3.50</td>\n",
              "      <td>Very Low</td>\n",
              "    </tr>\n",
              "    <tr>\n",
              "      <th>53936</th>\n",
              "      <td>53937</td>\n",
              "      <td>0.72</td>\n",
              "      <td>Good</td>\n",
              "      <td>D</td>\n",
              "      <td>SI1</td>\n",
              "      <td>63.1</td>\n",
              "      <td>55.0</td>\n",
              "      <td>5.69</td>\n",
              "      <td>5.75</td>\n",
              "      <td>3.61</td>\n",
              "      <td>Very Low</td>\n",
              "    </tr>\n",
              "    <tr>\n",
              "      <th>53937</th>\n",
              "      <td>53938</td>\n",
              "      <td>0.70</td>\n",
              "      <td>Very Good</td>\n",
              "      <td>D</td>\n",
              "      <td>SI1</td>\n",
              "      <td>62.8</td>\n",
              "      <td>60.0</td>\n",
              "      <td>5.66</td>\n",
              "      <td>5.68</td>\n",
              "      <td>3.56</td>\n",
              "      <td>Very Low</td>\n",
              "    </tr>\n",
              "    <tr>\n",
              "      <th>53938</th>\n",
              "      <td>53939</td>\n",
              "      <td>0.86</td>\n",
              "      <td>Premium</td>\n",
              "      <td>H</td>\n",
              "      <td>SI2</td>\n",
              "      <td>61.0</td>\n",
              "      <td>58.0</td>\n",
              "      <td>6.15</td>\n",
              "      <td>6.12</td>\n",
              "      <td>3.74</td>\n",
              "      <td>Very Low</td>\n",
              "    </tr>\n",
              "    <tr>\n",
              "      <th>53939</th>\n",
              "      <td>53940</td>\n",
              "      <td>0.75</td>\n",
              "      <td>Ideal</td>\n",
              "      <td>D</td>\n",
              "      <td>SI2</td>\n",
              "      <td>62.2</td>\n",
              "      <td>55.0</td>\n",
              "      <td>5.83</td>\n",
              "      <td>5.87</td>\n",
              "      <td>3.64</td>\n",
              "      <td>Very Low</td>\n",
              "    </tr>\n",
              "  </tbody>\n",
              "</table>\n",
              "<p>53940 rows × 11 columns</p>\n",
              "</div>"
            ],
            "text/plain": [
              "       index  carat        cut color clarity  ...  table     x     y     z     price\n",
              "0          1   0.23      Ideal     E     SI2  ...   55.0  3.95  3.98  2.43  Very Low\n",
              "1          2   0.21    Premium     E     SI1  ...   61.0  3.89  3.84  2.31  Very Low\n",
              "2          3   0.23       Good     E     VS1  ...   65.0  4.05  4.07  2.31  Very Low\n",
              "3          4   0.29    Premium     I     VS2  ...   58.0  4.20  4.23  2.63  Very Low\n",
              "4          5   0.31       Good     J     SI2  ...   58.0  4.34  4.35  2.75  Very Low\n",
              "...      ...    ...        ...   ...     ...  ...    ...   ...   ...   ...       ...\n",
              "53935  53936   0.72      Ideal     D     SI1  ...   57.0  5.75  5.76  3.50  Very Low\n",
              "53936  53937   0.72       Good     D     SI1  ...   55.0  5.69  5.75  3.61  Very Low\n",
              "53937  53938   0.70  Very Good     D     SI1  ...   60.0  5.66  5.68  3.56  Very Low\n",
              "53938  53939   0.86    Premium     H     SI2  ...   58.0  6.15  6.12  3.74  Very Low\n",
              "53939  53940   0.75      Ideal     D     SI2  ...   55.0  5.83  5.87  3.64  Very Low\n",
              "\n",
              "[53940 rows x 11 columns]"
            ]
          },
          "metadata": {
            "tags": []
          },
          "execution_count": 324
        }
      ]
    },
    {
      "cell_type": "code",
      "metadata": {
        "id": "WYz0sTp6uSEq"
      },
      "source": [
        "column_names = ['index','carat','cut','color','clarity','depth', 'table','x', 'y', 'z','price','quality']"
      ],
      "execution_count": 325,
      "outputs": []
    },
    {
      "cell_type": "code",
      "metadata": {
        "colab": {
          "base_uri": "https://localhost:8080/",
          "height": 506
        },
        "id": "dycPnQ3sreaM",
        "outputId": "abe960f2-d4dc-4ed0-9b68-7bd579dbd157"
      },
      "source": [
        "# Correlation of the features\n",
        "correlations = data.corr()\n",
        "fig, ax = plt.subplots(figsize=(8, 8))\n",
        "colormap = sns.diverging_palette(220, 10, as_cmap=True)\n",
        "sns.heatmap(correlations, cmap=colormap, annot=True, fmt=\".2f\")\n",
        "ax.set_xticklabels(column_names,rotation=45, horizontalalignment='right');\n",
        "ax.set_yticklabels(column_names);\n",
        "plt.show()"
      ],
      "execution_count": 326,
      "outputs": [
        {
          "output_type": "display_data",
          "data": {
            "image/png": "[encoded data removed]",
            "text/plain": [
              "<Figure size 576x576 with 2 Axes>"
            ]
          },
          "metadata": {
            "tags": [],
            "needs_background": "light"
          }
        }
      ]
    },
    {
      "cell_type": "code",
      "metadata": {
        "colab": {
          "base_uri": "https://localhost:8080/",
          "height": 437
        },
        "id": "dob5iPs3wODv",
        "outputId": "a7be7a83-2af3-46a0-913a-73cc23e72158"
      },
      "source": [
        "from sklearn.preprocessing import minmax_scale\n",
        "from sklearn.utils import resample\n",
        "\n",
        "np.random.seed(0)\n",
        "original_data = np.random.exponential(size = 1000)\n",
        "scaled_data = minmax_scale(original_data)\n",
        "\n",
        "fig, ax=plt.subplots(1,2)\n",
        "sns.distplot(original_data, ax=ax[0], color='y')\n",
        "ax[0].set_title(\"Original Data\")\n",
        "sns.distplot(scaled_data, ax=ax[1])\n",
        "ax[1].set_title(\"Scaled data\")\n",
        "plt.show()"
      ],
      "execution_count": 377,
      "outputs": [
        {
          "output_type": "stream",
          "text": [
            "/usr/local/lib/python3.7/dist-packages/seaborn/distributions.py:2557: FutureWarning:\n",
            "\n",
            "`distplot` is a deprecated function and will be removed in a future version. Please adapt your code to use either `displot` (a figure-level function with similar flexibility) or `histplot` (an axes-level function for histograms).\n",
            "\n",
            "/usr/local/lib/python3.7/dist-packages/seaborn/distributions.py:2557: FutureWarning:\n",
            "\n",
            "`distplot` is a deprecated function and will be removed in a future version. Please adapt your code to use either `displot` (a figure-level function with similar flexibility) or `histplot` (an axes-level function for histograms).\n",
            "\n"
          ],
          "name": "stderr"
        },
        {
          "output_type": "display_data",
          "data": {
            "image/png": "[encoded data removed]",
            "text/plain": [
              "<Figure size 432x288 with 2 Axes>"
            ]
          },
          "metadata": {
            "tags": [],
            "needs_background": "light"
          }
        }
      ]
    },
    {
      "cell_type": "code",
      "metadata": {
        "colab": {
          "base_uri": "https://localhost:8080/",
          "height": 359
        },
        "id": "Gv0A8J0u02pk",
        "outputId": "fadb46e7-4560-4966-ee18-3422734b02a4"
      },
      "source": [
        "bins = (0,2,6)\n",
        "group_names = ['bad','good']\n",
        "data['carat'] = pd.cut(data['carat'], bins = bins, labels = group_names)\n",
        "data.head(10)"
      ],
      "execution_count": 403,
      "outputs": [
        {
          "output_type": "execute_result",
          "data": {
            "text/html": [
              "<div>\n",
              "<style scoped>\n",
              "    .dataframe tbody tr th:only-of-type {\n",
              "        vertical-align: middle;\n",
              "    }\n",
              "\n",
              "    .dataframe tbody tr th {\n",
              "        vertical-align: top;\n",
              "    }\n",
              "\n",
              "    .dataframe thead th {\n",
              "        text-align: right;\n",
              "    }\n",
              "</style>\n",
              "<table border=\"1\" class=\"dataframe\">\n",
              "  <thead>\n",
              "    <tr style=\"text-align: right;\">\n",
              "      <th></th>\n",
              "      <th>index</th>\n",
              "      <th>carat</th>\n",
              "      <th>cut</th>\n",
              "      <th>color</th>\n",
              "      <th>clarity</th>\n",
              "      <th>depth</th>\n",
              "      <th>table</th>\n",
              "      <th>price</th>\n",
              "      <th>volume</th>\n",
              "      <th>diamond score</th>\n",
              "    </tr>\n",
              "  </thead>\n",
              "  <tbody>\n",
              "    <tr>\n",
              "      <th>0</th>\n",
              "      <td>1</td>\n",
              "      <td>bad</td>\n",
              "      <td>0.0</td>\n",
              "      <td>0.0</td>\n",
              "      <td>0.0</td>\n",
              "      <td>61.5</td>\n",
              "      <td>55.0</td>\n",
              "      <td>Very Low</td>\n",
              "      <td>38.202030</td>\n",
              "      <td>0.0</td>\n",
              "    </tr>\n",
              "    <tr>\n",
              "      <th>1</th>\n",
              "      <td>2</td>\n",
              "      <td>bad</td>\n",
              "      <td>0.0</td>\n",
              "      <td>0.0</td>\n",
              "      <td>0.0</td>\n",
              "      <td>59.8</td>\n",
              "      <td>61.0</td>\n",
              "      <td>Very Low</td>\n",
              "      <td>34.505856</td>\n",
              "      <td>0.0</td>\n",
              "    </tr>\n",
              "    <tr>\n",
              "      <th>2</th>\n",
              "      <td>3</td>\n",
              "      <td>bad</td>\n",
              "      <td>0.0</td>\n",
              "      <td>0.0</td>\n",
              "      <td>0.0</td>\n",
              "      <td>56.9</td>\n",
              "      <td>65.0</td>\n",
              "      <td>Very Low</td>\n",
              "      <td>38.076885</td>\n",
              "      <td>0.0</td>\n",
              "    </tr>\n",
              "    <tr>\n",
              "      <th>3</th>\n",
              "      <td>4</td>\n",
              "      <td>bad</td>\n",
              "      <td>0.0</td>\n",
              "      <td>0.0</td>\n",
              "      <td>0.0</td>\n",
              "      <td>62.4</td>\n",
              "      <td>58.0</td>\n",
              "      <td>Very Low</td>\n",
              "      <td>46.724580</td>\n",
              "      <td>0.0</td>\n",
              "    </tr>\n",
              "    <tr>\n",
              "      <th>4</th>\n",
              "      <td>5</td>\n",
              "      <td>bad</td>\n",
              "      <td>0.0</td>\n",
              "      <td>0.0</td>\n",
              "      <td>0.0</td>\n",
              "      <td>63.3</td>\n",
              "      <td>58.0</td>\n",
              "      <td>Very Low</td>\n",
              "      <td>51.917250</td>\n",
              "      <td>0.0</td>\n",
              "    </tr>\n",
              "    <tr>\n",
              "      <th>5</th>\n",
              "      <td>6</td>\n",
              "      <td>bad</td>\n",
              "      <td>0.0</td>\n",
              "      <td>0.0</td>\n",
              "      <td>0.0</td>\n",
              "      <td>62.8</td>\n",
              "      <td>57.0</td>\n",
              "      <td>Very Low</td>\n",
              "      <td>38.693952</td>\n",
              "      <td>0.0</td>\n",
              "    </tr>\n",
              "    <tr>\n",
              "      <th>6</th>\n",
              "      <td>7</td>\n",
              "      <td>bad</td>\n",
              "      <td>0.0</td>\n",
              "      <td>0.0</td>\n",
              "      <td>0.0</td>\n",
              "      <td>62.3</td>\n",
              "      <td>57.0</td>\n",
              "      <td>Very Low</td>\n",
              "      <td>38.830870</td>\n",
              "      <td>0.0</td>\n",
              "    </tr>\n",
              "    <tr>\n",
              "      <th>7</th>\n",
              "      <td>8</td>\n",
              "      <td>bad</td>\n",
              "      <td>0.0</td>\n",
              "      <td>0.0</td>\n",
              "      <td>0.0</td>\n",
              "      <td>61.9</td>\n",
              "      <td>55.0</td>\n",
              "      <td>Very Low</td>\n",
              "      <td>42.321081</td>\n",
              "      <td>0.0</td>\n",
              "    </tr>\n",
              "    <tr>\n",
              "      <th>8</th>\n",
              "      <td>9</td>\n",
              "      <td>bad</td>\n",
              "      <td>0.0</td>\n",
              "      <td>0.0</td>\n",
              "      <td>0.0</td>\n",
              "      <td>65.1</td>\n",
              "      <td>61.0</td>\n",
              "      <td>Very Low</td>\n",
              "      <td>36.425214</td>\n",
              "      <td>0.0</td>\n",
              "    </tr>\n",
              "    <tr>\n",
              "      <th>9</th>\n",
              "      <td>10</td>\n",
              "      <td>bad</td>\n",
              "      <td>0.0</td>\n",
              "      <td>0.0</td>\n",
              "      <td>0.0</td>\n",
              "      <td>59.4</td>\n",
              "      <td>61.0</td>\n",
              "      <td>Very Low</td>\n",
              "      <td>38.718000</td>\n",
              "      <td>0.0</td>\n",
              "    </tr>\n",
              "  </tbody>\n",
              "</table>\n",
              "</div>"
            ],
            "text/plain": [
              "   index carat  cut  color  ...  table     price     volume diamond score\n",
              "0      1   bad  0.0    0.0  ...   55.0  Very Low  38.202030           0.0\n",
              "1      2   bad  0.0    0.0  ...   61.0  Very Low  34.505856           0.0\n",
              "2      3   bad  0.0    0.0  ...   65.0  Very Low  38.076885           0.0\n",
              "3      4   bad  0.0    0.0  ...   58.0  Very Low  46.724580           0.0\n",
              "4      5   bad  0.0    0.0  ...   58.0  Very Low  51.917250           0.0\n",
              "5      6   bad  0.0    0.0  ...   57.0  Very Low  38.693952           0.0\n",
              "6      7   bad  0.0    0.0  ...   57.0  Very Low  38.830870           0.0\n",
              "7      8   bad  0.0    0.0  ...   55.0  Very Low  42.321081           0.0\n",
              "8      9   bad  0.0    0.0  ...   61.0  Very Low  36.425214           0.0\n",
              "9     10   bad  0.0    0.0  ...   61.0  Very Low  38.718000           0.0\n",
              "\n",
              "[10 rows x 10 columns]"
            ]
          },
          "metadata": {
            "tags": []
          },
          "execution_count": 403
        }
      ]
    },
    {
      "cell_type": "code",
      "metadata": {
        "colab": {
          "base_uri": "https://localhost:8080/"
        },
        "id": "x6jptI010Fta",
        "outputId": "2a129697-0ebe-4a46-e396-3b144dcb881c"
      },
      "source": [
        "from sklearn.preprocessing import LabelEncoder\n",
        "\n",
        "label_carat = LabelEncoder()\n",
        "data['carat'] = label_carat.fit_transform(data['carat'])\n",
        "data['carat'].value_counts()\n"
      ],
      "execution_count": 378,
      "outputs": [
        {
          "output_type": "execute_result",
          "data": {
            "text/plain": [
              "10     2604\n",
              "11     2249\n",
              "81     2242\n",
              "50     1981\n",
              "12     1840\n",
              "       ... \n",
              "260       1\n",
              "262       1\n",
              "243       1\n",
              "272       1\n",
              "244       1\n",
              "Name: carat, Length: 273, dtype: int64"
            ]
          },
          "metadata": {
            "tags": []
          },
          "execution_count": 378
        }
      ]
    },
    {
      "cell_type": "code",
      "metadata": {
        "id": "PfeqRXoU4KZc"
      },
      "source": [
        "X = data.drop('carat', axis=1)\n",
        "y = data['carat']"
      ],
      "execution_count": 331,
      "outputs": []
    },
    {
      "cell_type": "code",
      "metadata": {
        "id": "DjXhOhWfrhAL",
        "colab": {
          "base_uri": "https://localhost:8080/",
          "height": 419
        },
        "outputId": "15632f22-3e20-4ece-dd6e-b2e5c93d66a7"
      },
      "source": [
        "#Split dataset into train and test sets. (0.7/0.3)\n",
        "\n",
        "from sklearn.model_selection import train_test_split\n",
        "\n",
        "X_train, X_test, y_train, y_test = train_test_split(X, y,train_size=0.7, test_size=0.3)\n",
        "X_test"
      ],
      "execution_count": 382,
      "outputs": [
        {
          "output_type": "execute_result",
          "data": {
            "text/html": [
              "<div>\n",
              "<style scoped>\n",
              "    .dataframe tbody tr th:only-of-type {\n",
              "        vertical-align: middle;\n",
              "    }\n",
              "\n",
              "    .dataframe tbody tr th {\n",
              "        vertical-align: top;\n",
              "    }\n",
              "\n",
              "    .dataframe thead th {\n",
              "        text-align: right;\n",
              "    }\n",
              "</style>\n",
              "<table border=\"1\" class=\"dataframe\">\n",
              "  <thead>\n",
              "    <tr style=\"text-align: right;\">\n",
              "      <th></th>\n",
              "      <th>index</th>\n",
              "      <th>cut</th>\n",
              "      <th>color</th>\n",
              "      <th>clarity</th>\n",
              "      <th>depth</th>\n",
              "      <th>table</th>\n",
              "      <th>x</th>\n",
              "      <th>y</th>\n",
              "      <th>z</th>\n",
              "      <th>price</th>\n",
              "    </tr>\n",
              "  </thead>\n",
              "  <tbody>\n",
              "    <tr>\n",
              "      <th>19222</th>\n",
              "      <td>19223</td>\n",
              "      <td>3</td>\n",
              "      <td>1</td>\n",
              "      <td>7</td>\n",
              "      <td>59.1</td>\n",
              "      <td>60.0</td>\n",
              "      <td>7.12</td>\n",
              "      <td>7.17</td>\n",
              "      <td>4.22</td>\n",
              "      <td>NaN</td>\n",
              "    </tr>\n",
              "    <tr>\n",
              "      <th>6347</th>\n",
              "      <td>6348</td>\n",
              "      <td>2</td>\n",
              "      <td>6</td>\n",
              "      <td>3</td>\n",
              "      <td>57.4</td>\n",
              "      <td>59.0</td>\n",
              "      <td>6.61</td>\n",
              "      <td>6.53</td>\n",
              "      <td>3.77</td>\n",
              "      <td>NaN</td>\n",
              "    </tr>\n",
              "    <tr>\n",
              "      <th>5549</th>\n",
              "      <td>5550</td>\n",
              "      <td>2</td>\n",
              "      <td>6</td>\n",
              "      <td>8</td>\n",
              "      <td>63.6</td>\n",
              "      <td>56.0</td>\n",
              "      <td>6.40</td>\n",
              "      <td>6.37</td>\n",
              "      <td>4.06</td>\n",
              "      <td>326.0</td>\n",
              "    </tr>\n",
              "    <tr>\n",
              "      <th>27639</th>\n",
              "      <td>27640</td>\n",
              "      <td>5</td>\n",
              "      <td>7</td>\n",
              "      <td>6</td>\n",
              "      <td>62.1</td>\n",
              "      <td>58.0</td>\n",
              "      <td>8.54</td>\n",
              "      <td>8.49</td>\n",
              "      <td>5.29</td>\n",
              "      <td>NaN</td>\n",
              "    </tr>\n",
              "    <tr>\n",
              "      <th>11868</th>\n",
              "      <td>11869</td>\n",
              "      <td>1</td>\n",
              "      <td>6</td>\n",
              "      <td>7</td>\n",
              "      <td>62.4</td>\n",
              "      <td>57.0</td>\n",
              "      <td>6.71</td>\n",
              "      <td>6.75</td>\n",
              "      <td>4.20</td>\n",
              "      <td>NaN</td>\n",
              "    </tr>\n",
              "    <tr>\n",
              "      <th>...</th>\n",
              "      <td>...</td>\n",
              "      <td>...</td>\n",
              "      <td>...</td>\n",
              "      <td>...</td>\n",
              "      <td>...</td>\n",
              "      <td>...</td>\n",
              "      <td>...</td>\n",
              "      <td>...</td>\n",
              "      <td>...</td>\n",
              "      <td>...</td>\n",
              "    </tr>\n",
              "    <tr>\n",
              "      <th>27425</th>\n",
              "      <td>27426</td>\n",
              "      <td>3</td>\n",
              "      <td>5</td>\n",
              "      <td>8</td>\n",
              "      <td>63.6</td>\n",
              "      <td>58.0</td>\n",
              "      <td>8.51</td>\n",
              "      <td>8.59</td>\n",
              "      <td>5.44</td>\n",
              "      <td>NaN</td>\n",
              "    </tr>\n",
              "    <tr>\n",
              "      <th>28940</th>\n",
              "      <td>28941</td>\n",
              "      <td>2</td>\n",
              "      <td>5</td>\n",
              "      <td>1</td>\n",
              "      <td>63.3</td>\n",
              "      <td>59.0</td>\n",
              "      <td>4.22</td>\n",
              "      <td>4.28</td>\n",
              "      <td>2.69</td>\n",
              "      <td>326.0</td>\n",
              "    </tr>\n",
              "    <tr>\n",
              "      <th>23707</th>\n",
              "      <td>23708</td>\n",
              "      <td>2</td>\n",
              "      <td>7</td>\n",
              "      <td>4</td>\n",
              "      <td>63.4</td>\n",
              "      <td>58.0</td>\n",
              "      <td>4.61</td>\n",
              "      <td>4.64</td>\n",
              "      <td>2.93</td>\n",
              "      <td>326.0</td>\n",
              "    </tr>\n",
              "    <tr>\n",
              "      <th>18800</th>\n",
              "      <td>18801</td>\n",
              "      <td>3</td>\n",
              "      <td>4</td>\n",
              "      <td>3</td>\n",
              "      <td>62.9</td>\n",
              "      <td>56.0</td>\n",
              "      <td>6.56</td>\n",
              "      <td>6.60</td>\n",
              "      <td>4.14</td>\n",
              "      <td>NaN</td>\n",
              "    </tr>\n",
              "    <tr>\n",
              "      <th>12597</th>\n",
              "      <td>12598</td>\n",
              "      <td>5</td>\n",
              "      <td>3</td>\n",
              "      <td>7</td>\n",
              "      <td>60.9</td>\n",
              "      <td>59.0</td>\n",
              "      <td>6.59</td>\n",
              "      <td>6.64</td>\n",
              "      <td>4.03</td>\n",
              "      <td>NaN</td>\n",
              "    </tr>\n",
              "  </tbody>\n",
              "</table>\n",
              "<p>10617 rows × 10 columns</p>\n",
              "</div>"
            ],
            "text/plain": [
              "       index  cut  color  clarity  depth  table     x     y     z  price\n",
              "19222  19223    3      1        7   59.1   60.0  7.12  7.17  4.22    NaN\n",
              "6347    6348    2      6        3   57.4   59.0  6.61  6.53  3.77    NaN\n",
              "5549    5550    2      6        8   63.6   56.0  6.40  6.37  4.06  326.0\n",
              "27639  27640    5      7        6   62.1   58.0  8.54  8.49  5.29    NaN\n",
              "11868  11869    1      6        7   62.4   57.0  6.71  6.75  4.20    NaN\n",
              "...      ...  ...    ...      ...    ...    ...   ...   ...   ...    ...\n",
              "27425  27426    3      5        8   63.6   58.0  8.51  8.59  5.44    NaN\n",
              "28940  28941    2      5        1   63.3   59.0  4.22  4.28  2.69  326.0\n",
              "23707  23708    2      7        4   63.4   58.0  4.61  4.64  2.93  326.0\n",
              "18800  18801    3      4        3   62.9   56.0  6.56  6.60  4.14    NaN\n",
              "12597  12598    5      3        7   60.9   59.0  6.59  6.64  4.03    NaN\n",
              "\n",
              "[10617 rows x 10 columns]"
            ]
          },
          "metadata": {
            "tags": []
          },
          "execution_count": 382
        }
      ]
    },
    {
      "cell_type": "code",
      "metadata": {
        "id": "Sw7LgbRLyb04"
      },
      "source": [
        "#Standardization\n",
        "from sklearn.preprocessing import StandardScaler\n",
        "\n",
        "sc = StandardScaler()\n",
        "\n",
        "X_train = sc.fit_transform(X_train)\n",
        "X_test = sc.fit_transform (X_test)"
      ],
      "execution_count": 383,
      "outputs": []
    },
    {
      "cell_type": "markdown",
      "metadata": {
        "id": "00-27S6czHsT"
      },
      "source": [
        "# **ML Application**\n",
        "* Define models.\n",
        "* Fit models.\n",
        "* Evaluate models for both train and test dataset.\n",
        "* Generate Confusion Matrix and scores of Accuracy, Recall, Precision and * F1-Score.\n",
        "* nalyse occurrence of overfitting and underfitting. If there is any of them, try to overcome it within a different section."
      ]
    },
    {
      "cell_type": "code",
      "metadata": {
        "id": "A6quM9bKVVsq"
      },
      "source": [
        "from sklearn import svm\n",
        "from sklearn.svm import SVC\n",
        "from sklearn.tree import DecisionTreeClassifier\n",
        "from sklearn.tree import DecisionTreeRegressor\n",
        "from sklearn.linear_model import LogisticRegression\n",
        "from sklearn.neighbors import KNeighborsClassifier\n",
        "from sklearn.linear_model import SGDClassifier\n",
        "from sklearn.ensemble import RandomForestClassifier\n",
        "from sklearn.naive_bayes import GaussianNB\n",
        "from sklearn.ensemble import AdaBoostClassifier\n",
        "from sklearn import model_selection\n",
        "from sklearn.linear_model import SGDRegressor\n",
        "from sklearn.linear_model import LinearRegression, Ridge, Lasso, ElasticNet\n",
        "from sklearn.preprocessing import MinMaxScaler\n",
        "sns.set_palette(\"husl\")\n",
        "\n",
        "import warnings\n",
        "warnings.filterwarnings('ignore')"
      ],
      "execution_count": 457,
      "outputs": []
    },
    {
      "cell_type": "code",
      "metadata": {
        "colab": {
          "base_uri": "https://localhost:8080/",
          "height": 80
        },
        "id": "4oNck9v-hGDc",
        "outputId": "dcbb32d2-2782-4b31-f297-25b3ae159f51"
      },
      "source": [
        "del data[data.columns[0]]\n",
        "d_set.rename(columns={\"x\": \"length\", \"y\": \"width\", \"z\" : \"depth\",\"depth\" : \"depth %\", \"table\": \"table %\"},inplace = True)\n",
        "d_set.head(1)"
      ],
      "execution_count": 459,
      "outputs": [
        {
          "output_type": "execute_result",
          "data": {
            "text/html": [
              "<div>\n",
              "<style scoped>\n",
              "    .dataframe tbody tr th:only-of-type {\n",
              "        vertical-align: middle;\n",
              "    }\n",
              "\n",
              "    .dataframe tbody tr th {\n",
              "        vertical-align: top;\n",
              "    }\n",
              "\n",
              "    .dataframe thead th {\n",
              "        text-align: right;\n",
              "    }\n",
              "</style>\n",
              "<table border=\"1\" class=\"dataframe\">\n",
              "  <thead>\n",
              "    <tr style=\"text-align: right;\">\n",
              "      <th></th>\n",
              "      <th>index</th>\n",
              "      <th>carat</th>\n",
              "      <th>cut</th>\n",
              "      <th>color</th>\n",
              "      <th>clarity</th>\n",
              "      <th>depth %</th>\n",
              "      <th>table %</th>\n",
              "      <th>length</th>\n",
              "      <th>width</th>\n",
              "      <th>depth</th>\n",
              "      <th>price</th>\n",
              "    </tr>\n",
              "  </thead>\n",
              "  <tbody>\n",
              "    <tr>\n",
              "      <th>0</th>\n",
              "      <td>1</td>\n",
              "      <td>0.23</td>\n",
              "      <td>Ideal</td>\n",
              "      <td>E</td>\n",
              "      <td>SI2</td>\n",
              "      <td>61.5</td>\n",
              "      <td>55.0</td>\n",
              "      <td>3.95</td>\n",
              "      <td>3.98</td>\n",
              "      <td>2.43</td>\n",
              "      <td>Very Low</td>\n",
              "    </tr>\n",
              "  </tbody>\n",
              "</table>\n",
              "</div>"
            ],
            "text/plain": [
              "   index  carat    cut color clarity  ...  table %  length  width  depth     price\n",
              "0      1   0.23  Ideal     E     SI2  ...     55.0    3.95   3.98   2.43  Very Low\n",
              "\n",
              "[1 rows x 11 columns]"
            ]
          },
          "metadata": {
            "tags": []
          },
          "execution_count": 459
        }
      ]
    },
    {
      "cell_type": "code",
      "metadata": {
        "colab": {
          "base_uri": "https://localhost:8080/",
          "height": 1000
        },
        "id": "yUoeef8shXGV",
        "outputId": "d467f68f-bd67-470a-be43-fa76c455555d"
      },
      "source": [
        "d_set['L/W'] = d_set['length']/d_set['width']\n",
        "print(d_set.info())\n",
        "print(d_set.shape)\n",
        "print(d_set.head())\n",
        "print(d_set.tail())\n",
        "print(d_set['cut'].unique().tolist())\n",
        "print(d_set['clarity'].unique().tolist())\n",
        "print(d_set['color'].unique().tolist())\n",
        "print(d_set.describe())\n",
        "print(d_set.loc[(d_set['length'] == 0) | (d_set['width'] == 0) | (d_set['depth'] == 0) | (d_set['L/W'] == 0)] )\n",
        "print('length :',len(d_set.loc[(d_set['length'] == 0) | (d_set['width'] == 0) | (d_set['depth'] == 0) | (d_set['L/W'] == 0)]))\n",
        "\n",
        "\n",
        "d_set[['length','width','depth','L/W']]=d_set[['length','width','depth','L/W']].replace(0,np.NaN)\n",
        "\n",
        "d_set.dropna(inplace=True)\n",
        "\n",
        "d_set.loc[(d_set['length'] == 0) | (d_set['width'] == 0) | (d_set['depth'] == 0) | (d_set['L/W'] == 0) ]\n",
        "\n",
        "\n",
        "print(d_set.isnull().sum())\n",
        "print('shape:',d_set.shape)\n",
        "\n",
        "\n",
        "d_set['clarity_score']=d_set['clarity'].replace(['IF','VVS1','VVS2','VS1','VS2','SI1','SI2','I1'],[8,7,6,5,4,3,2,1])\n",
        "d_set['color_score'] = d_set['color'].replace(['D','E','F','G','H','I','J'],[7,6,5,4,3,2,1])\n",
        "d_set['cut_score'] = d_set['cut'].replace(['Ideal','Premium','Very Good','Good','Fair'],[5,4,3,2,1])\n",
        "\n",
        "print(d_set.head())\n",
        "data_score = d_set.copy()\n",
        "\n",
        "X = pd.DataFrame(data_score,columns =['carat','cut_score','clarity_score','color_score','table %','depth %','L/W','depth','length','width'])\n",
        "Y = pd.DataFrame(data_score,columns =['price'])\n",
        "\n",
        "\n",
        "\n",
        "X_train, X_test, Y_train, Y_test = train_test_split(X,Y,test_size=0.2, random_state=10)\n",
        "\n",
        "\n",
        "lin = LinearRegression()\n",
        "dlin.fit(X_train, Y_train)\n",
        "y_pred = dlin.predict(X_test)\n",
        "print('####### Linear Regression #######')\n",
        "print('Score : ' , dlin.score(X_test, Y_test))\n",
        "mse = mean_squared_error(Y_test,y_pred)\n",
        "r2 = r2_score(Y_test, y_pred)\n",
        "print('')\n",
        "print('MSE    :  ' ,mse)\n",
        "print('R2     :  ' , r2)\n",
        "n=X_test.shape[0]\n",
        "p=X_test.shape[1]\n",
        "adj_rsquared = 1 - (1 - r2) * ((n - 1)/(n-p-1))\n",
        "print('Adjusted R Squared: {}'.format(adj_rsquared))\n",
        "\n",
        "\n"
      ],
      "execution_count": 476,
      "outputs": [
        {
          "output_type": "stream",
          "text": [
            "<class 'pandas.core.frame.DataFrame'>\n",
            "Int64Index: 53920 entries, 0 to 53939\n",
            "Data columns (total 15 columns):\n",
            " #   Column         Non-Null Count  Dtype  \n",
            "---  ------         --------------  -----  \n",
            " 0   index          53920 non-null  int64  \n",
            " 1   carat          53920 non-null  float64\n",
            " 2   cut            53920 non-null  object \n",
            " 3   color          53920 non-null  object \n",
            " 4   clarity        53920 non-null  object \n",
            " 5   depth %        53920 non-null  float64\n",
            " 6   table %        53920 non-null  float64\n",
            " 7   length         53920 non-null  float64\n",
            " 8   width          53920 non-null  float64\n",
            " 9   depth          53920 non-null  float64\n",
            " 10  price          53920 non-null  object \n",
            " 11  L/W            53920 non-null  float64\n",
            " 12  clarity_score  53920 non-null  int64  \n",
            " 13  color_score    53920 non-null  int64  \n",
            " 14  cut_score      53920 non-null  int64  \n",
            "dtypes: float64(7), int64(4), object(4)\n",
            "memory usage: 6.6+ MB\n",
            "None\n",
            "(53920, 15)\n",
            "   index  carat      cut color  ...       L/W  clarity_score  color_score  cut_score\n",
            "0      1   0.23    Ideal     E  ...  0.992462              2            6          5\n",
            "1      2   0.21  Premium     E  ...  1.013021              3            6          4\n",
            "2      3   0.23     Good     E  ...  0.995086              5            6          2\n",
            "3      4   0.29  Premium     I  ...  0.992908              4            2          4\n",
            "4      5   0.31     Good     J  ...  0.997701              2            1          2\n",
            "\n",
            "[5 rows x 15 columns]\n",
            "       index  carat        cut  ... clarity_score color_score  cut_score\n",
            "53935  53936   0.72      Ideal  ...             3           7          5\n",
            "53936  53937   0.72       Good  ...             3           7          2\n",
            "53937  53938   0.70  Very Good  ...             3           7          3\n",
            "53938  53939   0.86    Premium  ...             2           3          4\n",
            "53939  53940   0.75      Ideal  ...             2           7          5\n",
            "\n",
            "[5 rows x 15 columns]\n",
            "['Ideal', 'Premium', 'Good', 'Very Good', 'Fair']\n",
            "['SI2', 'SI1', 'VS1', 'VS2', 'VVS2', 'VVS1', 'I1', 'IF']\n",
            "['E', 'I', 'J', 'H', 'F', 'G', 'D']\n",
            "              index         carat  ...   color_score     cut_score\n",
            "count  53920.000000  53920.000000  ...  53920.000000  53920.000000\n",
            "mean   26972.355731      0.797698  ...      4.405972      3.904228\n",
            "std    15571.269010      0.473795  ...      1.701272      1.116579\n",
            "min        1.000000      0.200000  ...      1.000000      1.000000\n",
            "25%    13487.750000      0.400000  ...      3.000000      3.000000\n",
            "50%    26973.500000      0.700000  ...      4.000000      4.000000\n",
            "75%    40457.250000      1.040000  ...      6.000000      5.000000\n",
            "max    53940.000000      5.010000  ...      7.000000      5.000000\n",
            "\n",
            "[8 rows x 11 columns]\n",
            "Empty DataFrame\n",
            "Columns: [index, carat, cut, color, clarity, depth %, table %, length, width, depth, price, L/W, clarity_score, color_score, cut_score]\n",
            "Index: []\n",
            "length : 0\n",
            "index            0\n",
            "carat            0\n",
            "cut              0\n",
            "color            0\n",
            "clarity          0\n",
            "depth %          0\n",
            "table %          0\n",
            "length           0\n",
            "width            0\n",
            "depth            0\n",
            "price            0\n",
            "L/W              0\n",
            "clarity_score    0\n",
            "color_score      0\n",
            "cut_score        0\n",
            "dtype: int64\n",
            "shape: (53920, 15)\n",
            "   index  carat      cut color  ...       L/W  clarity_score  color_score  cut_score\n",
            "0      1   0.23    Ideal     E  ...  0.992462              2            6          5\n",
            "1      2   0.21  Premium     E  ...  1.013021              3            6          4\n",
            "2      3   0.23     Good     E  ...  0.995086              5            6          2\n",
            "3      4   0.29  Premium     I  ...  0.992908              4            2          4\n",
            "4      5   0.31     Good     J  ...  0.997701              2            1          2\n",
            "\n",
            "[5 rows x 15 columns]\n"
          ],
          "name": "stdout"
        },
        {
          "output_type": "error",
          "ename": "ValueError",
          "evalue": "ignored",
          "traceback": [
            "\u001b[0;31m---------------------------------------------------------------------------\u001b[0m",
            "\u001b[0;31mValueError\u001b[0m                                Traceback (most recent call last)",
            "\u001b[0;32m<ipython-input-476-990485fc0747>\u001b[0m in \u001b[0;36m<module>\u001b[0;34m()\u001b[0m\n\u001b[1;32m     39\u001b[0m \u001b[0;34m\u001b[0m\u001b[0m\n\u001b[1;32m     40\u001b[0m \u001b[0mlin\u001b[0m \u001b[0;34m=\u001b[0m \u001b[0mLinearRegression\u001b[0m\u001b[0;34m(\u001b[0m\u001b[0;34m)\u001b[0m\u001b[0;34m\u001b[0m\u001b[0;34m\u001b[0m\u001b[0m\n\u001b[0;32m---> 41\u001b[0;31m \u001b[0mdlin\u001b[0m\u001b[0;34m.\u001b[0m\u001b[0mfit\u001b[0m\u001b[0;34m(\u001b[0m\u001b[0mX_train\u001b[0m\u001b[0;34m,\u001b[0m \u001b[0mY_train\u001b[0m\u001b[0;34m)\u001b[0m\u001b[0;34m\u001b[0m\u001b[0;34m\u001b[0m\u001b[0m\n\u001b[0m\u001b[1;32m     42\u001b[0m \u001b[0my_pred\u001b[0m \u001b[0;34m=\u001b[0m \u001b[0mdlin\u001b[0m\u001b[0;34m.\u001b[0m\u001b[0mpredict\u001b[0m\u001b[0;34m(\u001b[0m\u001b[0mX_test\u001b[0m\u001b[0;34m)\u001b[0m\u001b[0;34m\u001b[0m\u001b[0;34m\u001b[0m\u001b[0m\n\u001b[1;32m     43\u001b[0m \u001b[0mprint\u001b[0m\u001b[0;34m(\u001b[0m\u001b[0;34m'####### Linear Regression #######'\u001b[0m\u001b[0;34m)\u001b[0m\u001b[0;34m\u001b[0m\u001b[0;34m\u001b[0m\u001b[0m\n",
            "\u001b[0;32m/usr/local/lib/python3.7/dist-packages/sklearn/linear_model/_base.py\u001b[0m in \u001b[0;36mfit\u001b[0;34m(self, X, y, sample_weight)\u001b[0m\n\u001b[1;32m    490\u001b[0m         \u001b[0mn_jobs_\u001b[0m \u001b[0;34m=\u001b[0m \u001b[0mself\u001b[0m\u001b[0;34m.\u001b[0m\u001b[0mn_jobs\u001b[0m\u001b[0;34m\u001b[0m\u001b[0;34m\u001b[0m\u001b[0m\n\u001b[1;32m    491\u001b[0m         X, y = check_X_y(X, y, accept_sparse=['csr', 'csc', 'coo'],\n\u001b[0;32m--> 492\u001b[0;31m                          y_numeric=True, multi_output=True)\n\u001b[0m\u001b[1;32m    493\u001b[0m \u001b[0;34m\u001b[0m\u001b[0m\n\u001b[1;32m    494\u001b[0m         \u001b[0;32mif\u001b[0m \u001b[0msample_weight\u001b[0m \u001b[0;32mis\u001b[0m \u001b[0;32mnot\u001b[0m \u001b[0;32mNone\u001b[0m\u001b[0;34m:\u001b[0m\u001b[0;34m\u001b[0m\u001b[0;34m\u001b[0m\u001b[0m\n",
            "\u001b[0;32m/usr/local/lib/python3.7/dist-packages/sklearn/utils/validation.py\u001b[0m in \u001b[0;36mcheck_X_y\u001b[0;34m(X, y, accept_sparse, accept_large_sparse, dtype, order, copy, force_all_finite, ensure_2d, allow_nd, multi_output, ensure_min_samples, ensure_min_features, y_numeric, warn_on_dtype, estimator)\u001b[0m\n\u001b[1;32m    761\u001b[0m         \u001b[0m_assert_all_finite\u001b[0m\u001b[0;34m(\u001b[0m\u001b[0my\u001b[0m\u001b[0;34m)\u001b[0m\u001b[0;34m\u001b[0m\u001b[0;34m\u001b[0m\u001b[0m\n\u001b[1;32m    762\u001b[0m     \u001b[0;32mif\u001b[0m \u001b[0my_numeric\u001b[0m \u001b[0;32mand\u001b[0m \u001b[0my\u001b[0m\u001b[0;34m.\u001b[0m\u001b[0mdtype\u001b[0m\u001b[0;34m.\u001b[0m\u001b[0mkind\u001b[0m \u001b[0;34m==\u001b[0m \u001b[0;34m'O'\u001b[0m\u001b[0;34m:\u001b[0m\u001b[0;34m\u001b[0m\u001b[0;34m\u001b[0m\u001b[0m\n\u001b[0;32m--> 763\u001b[0;31m         \u001b[0my\u001b[0m \u001b[0;34m=\u001b[0m \u001b[0my\u001b[0m\u001b[0;34m.\u001b[0m\u001b[0mastype\u001b[0m\u001b[0;34m(\u001b[0m\u001b[0mnp\u001b[0m\u001b[0;34m.\u001b[0m\u001b[0mfloat64\u001b[0m\u001b[0;34m)\u001b[0m\u001b[0;34m\u001b[0m\u001b[0;34m\u001b[0m\u001b[0m\n\u001b[0m\u001b[1;32m    764\u001b[0m \u001b[0;34m\u001b[0m\u001b[0m\n\u001b[1;32m    765\u001b[0m     \u001b[0mcheck_consistent_length\u001b[0m\u001b[0;34m(\u001b[0m\u001b[0mX\u001b[0m\u001b[0;34m,\u001b[0m \u001b[0my\u001b[0m\u001b[0;34m)\u001b[0m\u001b[0;34m\u001b[0m\u001b[0;34m\u001b[0m\u001b[0m\n",
            "\u001b[0;31mValueError\u001b[0m: could not convert string to float: 'Low'"
          ]
        }
      ]
    },
    {
      "cell_type": "code",
      "metadata": {
        "colab": {
          "base_uri": "https://localhost:8080/",
          "height": 561
        },
        "id": "E2hg8o7lY5k3",
        "outputId": "d0348293-5cec-4365-d3b4-0a3030712ec4"
      },
      "source": [
        "d_set.sample(3)\n",
        "d_set['volume'] = d_set['x']*d_set['y']*d_set['z']\n",
        "\n",
        "d_set.drop(['x','y','z'],axis=1,inplace=True)\n",
        "d_set = d_set[d_set['volume']<1000]\n",
        "print(d_set.columns)\n",
        "\n",
        "\n",
        "d_set['cut'] = d_set['cut'].apply(lambda x: 1 if x=='Fair' else(2 if x=='Good' \n",
        "                                           else(3 if x=='Very Good' \n",
        "                                           else(4 if x=='Premium' else 5))))\n",
        "\n",
        "d_set['color'] = d_set['color'].apply(lambda x: 1 if x=='J' else(2 if x=='I'\n",
        "                                          else(3 if x=='H'\n",
        "                                          else(4 if x=='G'\n",
        "                                          else(5 if x=='F'\n",
        "                                          else(6 if x=='E' else 7))))))\n",
        "\n",
        "d_set['clarity'] = d_set['clarity'].apply(lambda x: 1 if x=='I1' else(2 if x=='SI2'\n",
        "                                          else(3 if x=='SI1'\n",
        "                                          else(4 if x=='VS2'\n",
        "                                          else(5 if x=='VS1'\n",
        "                                          else(6 if x=='WS2'\n",
        "                                          else 7 if x=='WS1' else 8))))))\n",
        "\n",
        "\n",
        "scaler = MinMaxScaler()\n",
        "\n",
        "d_set[['cut','color','clarity']] = scaler.fit_transform(d_set[['cut','color','clarity']])\n",
        "d_set['diamond score'] = d_set['cut'] + d_set['color'] + d_set['clarity']\n",
        "\n",
        "correlation = d_set.select_dtypes(include = ['float64', 'int64']).iloc[:, 1:].corr()\n",
        "\n",
        "test_data = d_set.iloc[-round(len(d_set)*.1):].copy()\n",
        "d_set.drop(d_set.index[-round(len(d_set)*.1):],inplace=True)\n",
        "test_data.drop('price',1,inplace=True)\n",
        "print(d_set.shape)\n",
        "print(test_data.shape)\n",
        "\n",
        "X = d_set.drop(['price'],1)\n",
        "y = d_set['price']\n",
        "X_train, X_test, y_train, y_test = train_test_split(X, y,train_size=0.7, test_size=0.3)\n",
        "\n",
        "linear_regression = LinearRegression()\n",
        "linear_regression.fit(X_train,y_train)\n",
        "\n",
        "print('Linear regression accuracy: ', linear_regression.score(X_test,y_test))\n",
        "\n",
        "ridge = Ridge(normalize=True)\n",
        "ridge.fit(X_train,y_train)\n",
        "print('Ridge regression accuracy: ',ridge.score(X_test,y_test))\n",
        "\n",
        "lasso = Lasso(normalize=True)\n",
        "lasso.fit(X_train,y_train)\n",
        "print('Lasso regression accuracy: ',ridge.score(X_test,y_test))\n",
        "\n",
        "elastic_net = ElasticNet()\n",
        "elastic_net.fit(X_train,y_train)\n",
        "print('Elastic net accuracy: ',elastic_net.score(X_test,y_test))\n"
      ],
      "execution_count": 427,
      "outputs": [
        {
          "output_type": "error",
          "ename": "KeyError",
          "evalue": "ignored",
          "traceback": [
            "\u001b[0;31m---------------------------------------------------------------------------\u001b[0m",
            "\u001b[0;31mKeyError\u001b[0m                                  Traceback (most recent call last)",
            "\u001b[0;32m/usr/local/lib/python3.7/dist-packages/pandas/core/indexes/base.py\u001b[0m in \u001b[0;36mget_loc\u001b[0;34m(self, key, method, tolerance)\u001b[0m\n\u001b[1;32m   2897\u001b[0m             \u001b[0;32mtry\u001b[0m\u001b[0;34m:\u001b[0m\u001b[0;34m\u001b[0m\u001b[0;34m\u001b[0m\u001b[0m\n\u001b[0;32m-> 2898\u001b[0;31m                 \u001b[0;32mreturn\u001b[0m \u001b[0mself\u001b[0m\u001b[0;34m.\u001b[0m\u001b[0m_engine\u001b[0m\u001b[0;34m.\u001b[0m\u001b[0mget_loc\u001b[0m\u001b[0;34m(\u001b[0m\u001b[0mcasted_key\u001b[0m\u001b[0;34m)\u001b[0m\u001b[0;34m\u001b[0m\u001b[0;34m\u001b[0m\u001b[0m\n\u001b[0m\u001b[1;32m   2899\u001b[0m             \u001b[0;32mexcept\u001b[0m \u001b[0mKeyError\u001b[0m \u001b[0;32mas\u001b[0m \u001b[0merr\u001b[0m\u001b[0;34m:\u001b[0m\u001b[0;34m\u001b[0m\u001b[0;34m\u001b[0m\u001b[0m\n",
            "\u001b[0;32mpandas/_libs/index.pyx\u001b[0m in \u001b[0;36mpandas._libs.index.IndexEngine.get_loc\u001b[0;34m()\u001b[0m\n",
            "\u001b[0;32mpandas/_libs/index.pyx\u001b[0m in \u001b[0;36mpandas._libs.index.IndexEngine.get_loc\u001b[0;34m()\u001b[0m\n",
            "\u001b[0;32mpandas/_libs/hashtable_class_helper.pxi\u001b[0m in \u001b[0;36mpandas._libs.hashtable.PyObjectHashTable.get_item\u001b[0;34m()\u001b[0m\n",
            "\u001b[0;32mpandas/_libs/hashtable_class_helper.pxi\u001b[0m in \u001b[0;36mpandas._libs.hashtable.PyObjectHashTable.get_item\u001b[0;34m()\u001b[0m\n",
            "\u001b[0;31mKeyError\u001b[0m: 'x'",
            "\nThe above exception was the direct cause of the following exception:\n",
            "\u001b[0;31mKeyError\u001b[0m                                  Traceback (most recent call last)",
            "\u001b[0;32m<ipython-input-427-095eb34bce9e>\u001b[0m in \u001b[0;36m<module>\u001b[0;34m()\u001b[0m\n\u001b[1;32m      1\u001b[0m \u001b[0md_set\u001b[0m\u001b[0;34m.\u001b[0m\u001b[0msample\u001b[0m\u001b[0;34m(\u001b[0m\u001b[0;36m3\u001b[0m\u001b[0;34m)\u001b[0m\u001b[0;34m\u001b[0m\u001b[0;34m\u001b[0m\u001b[0m\n\u001b[0;32m----> 2\u001b[0;31m \u001b[0md_set\u001b[0m\u001b[0;34m[\u001b[0m\u001b[0;34m'volume'\u001b[0m\u001b[0;34m]\u001b[0m \u001b[0;34m=\u001b[0m \u001b[0md_set\u001b[0m\u001b[0;34m[\u001b[0m\u001b[0;34m'x'\u001b[0m\u001b[0;34m]\u001b[0m\u001b[0;34m*\u001b[0m\u001b[0md_set\u001b[0m\u001b[0;34m[\u001b[0m\u001b[0;34m'y'\u001b[0m\u001b[0;34m]\u001b[0m\u001b[0;34m*\u001b[0m\u001b[0md_set\u001b[0m\u001b[0;34m[\u001b[0m\u001b[0;34m'z'\u001b[0m\u001b[0;34m]\u001b[0m\u001b[0;34m\u001b[0m\u001b[0;34m\u001b[0m\u001b[0m\n\u001b[0m\u001b[1;32m      3\u001b[0m \u001b[0;34m\u001b[0m\u001b[0m\n\u001b[1;32m      4\u001b[0m \u001b[0md_set\u001b[0m\u001b[0;34m.\u001b[0m\u001b[0mdrop\u001b[0m\u001b[0;34m(\u001b[0m\u001b[0;34m[\u001b[0m\u001b[0;34m'x'\u001b[0m\u001b[0;34m,\u001b[0m\u001b[0;34m'y'\u001b[0m\u001b[0;34m,\u001b[0m\u001b[0;34m'z'\u001b[0m\u001b[0;34m]\u001b[0m\u001b[0;34m,\u001b[0m\u001b[0maxis\u001b[0m\u001b[0;34m=\u001b[0m\u001b[0;36m1\u001b[0m\u001b[0;34m,\u001b[0m\u001b[0minplace\u001b[0m\u001b[0;34m=\u001b[0m\u001b[0;32mTrue\u001b[0m\u001b[0;34m)\u001b[0m\u001b[0;34m\u001b[0m\u001b[0;34m\u001b[0m\u001b[0m\n\u001b[1;32m      5\u001b[0m \u001b[0md_set\u001b[0m \u001b[0;34m=\u001b[0m \u001b[0md_set\u001b[0m\u001b[0;34m[\u001b[0m\u001b[0md_set\u001b[0m\u001b[0;34m[\u001b[0m\u001b[0;34m'volume'\u001b[0m\u001b[0;34m]\u001b[0m\u001b[0;34m<\u001b[0m\u001b[0;36m1000\u001b[0m\u001b[0;34m]\u001b[0m\u001b[0;34m\u001b[0m\u001b[0;34m\u001b[0m\u001b[0m\n",
            "\u001b[0;32m/usr/local/lib/python3.7/dist-packages/pandas/core/frame.py\u001b[0m in \u001b[0;36m__getitem__\u001b[0;34m(self, key)\u001b[0m\n\u001b[1;32m   2904\u001b[0m             \u001b[0;32mif\u001b[0m \u001b[0mself\u001b[0m\u001b[0;34m.\u001b[0m\u001b[0mcolumns\u001b[0m\u001b[0;34m.\u001b[0m\u001b[0mnlevels\u001b[0m \u001b[0;34m>\u001b[0m \u001b[0;36m1\u001b[0m\u001b[0;34m:\u001b[0m\u001b[0;34m\u001b[0m\u001b[0;34m\u001b[0m\u001b[0m\n\u001b[1;32m   2905\u001b[0m                 \u001b[0;32mreturn\u001b[0m \u001b[0mself\u001b[0m\u001b[0;34m.\u001b[0m\u001b[0m_getitem_multilevel\u001b[0m\u001b[0;34m(\u001b[0m\u001b[0mkey\u001b[0m\u001b[0;34m)\u001b[0m\u001b[0;34m\u001b[0m\u001b[0;34m\u001b[0m\u001b[0m\n\u001b[0;32m-> 2906\u001b[0;31m             \u001b[0mindexer\u001b[0m \u001b[0;34m=\u001b[0m \u001b[0mself\u001b[0m\u001b[0;34m.\u001b[0m\u001b[0mcolumns\u001b[0m\u001b[0;34m.\u001b[0m\u001b[0mget_loc\u001b[0m\u001b[0;34m(\u001b[0m\u001b[0mkey\u001b[0m\u001b[0;34m)\u001b[0m\u001b[0;34m\u001b[0m\u001b[0;34m\u001b[0m\u001b[0m\n\u001b[0m\u001b[1;32m   2907\u001b[0m             \u001b[0;32mif\u001b[0m \u001b[0mis_integer\u001b[0m\u001b[0;34m(\u001b[0m\u001b[0mindexer\u001b[0m\u001b[0;34m)\u001b[0m\u001b[0;34m:\u001b[0m\u001b[0;34m\u001b[0m\u001b[0;34m\u001b[0m\u001b[0m\n\u001b[1;32m   2908\u001b[0m                 \u001b[0mindexer\u001b[0m \u001b[0;34m=\u001b[0m \u001b[0;34m[\u001b[0m\u001b[0mindexer\u001b[0m\u001b[0;34m]\u001b[0m\u001b[0;34m\u001b[0m\u001b[0;34m\u001b[0m\u001b[0m\n",
            "\u001b[0;32m/usr/local/lib/python3.7/dist-packages/pandas/core/indexes/base.py\u001b[0m in \u001b[0;36mget_loc\u001b[0;34m(self, key, method, tolerance)\u001b[0m\n\u001b[1;32m   2898\u001b[0m                 \u001b[0;32mreturn\u001b[0m \u001b[0mself\u001b[0m\u001b[0;34m.\u001b[0m\u001b[0m_engine\u001b[0m\u001b[0;34m.\u001b[0m\u001b[0mget_loc\u001b[0m\u001b[0;34m(\u001b[0m\u001b[0mcasted_key\u001b[0m\u001b[0;34m)\u001b[0m\u001b[0;34m\u001b[0m\u001b[0;34m\u001b[0m\u001b[0m\n\u001b[1;32m   2899\u001b[0m             \u001b[0;32mexcept\u001b[0m \u001b[0mKeyError\u001b[0m \u001b[0;32mas\u001b[0m \u001b[0merr\u001b[0m\u001b[0;34m:\u001b[0m\u001b[0;34m\u001b[0m\u001b[0;34m\u001b[0m\u001b[0m\n\u001b[0;32m-> 2900\u001b[0;31m                 \u001b[0;32mraise\u001b[0m \u001b[0mKeyError\u001b[0m\u001b[0;34m(\u001b[0m\u001b[0mkey\u001b[0m\u001b[0;34m)\u001b[0m \u001b[0;32mfrom\u001b[0m \u001b[0merr\u001b[0m\u001b[0;34m\u001b[0m\u001b[0;34m\u001b[0m\u001b[0m\n\u001b[0m\u001b[1;32m   2901\u001b[0m \u001b[0;34m\u001b[0m\u001b[0m\n\u001b[1;32m   2902\u001b[0m         \u001b[0;32mif\u001b[0m \u001b[0mtolerance\u001b[0m \u001b[0;32mis\u001b[0m \u001b[0;32mnot\u001b[0m \u001b[0;32mNone\u001b[0m\u001b[0;34m:\u001b[0m\u001b[0;34m\u001b[0m\u001b[0;34m\u001b[0m\u001b[0m\n",
            "\u001b[0;31mKeyError\u001b[0m: 'x'"
          ]
        }
      ]
    },
    {
      "cell_type": "code",
      "metadata": {
        "id": "FiQwk5evnXnU"
      },
      "source": [
        ""
      ],
      "execution_count": null,
      "outputs": []
    }
  ]
}