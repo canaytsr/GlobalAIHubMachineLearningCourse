{
  "nbformat": 4,
  "nbformat_minor": 0,
  "metadata": {
    "colab": {
      "name": "Hw2.ipynb",
      "provenance": [],
      "collapsed_sections": [],
      "include_colab_link": true
    },
    "kernelspec": {
      "name": "python3",
      "display_name": "Python 3"
    }
  },
  "cells": [
    {
      "cell_type": "markdown",
      "metadata": {
        "id": "view-in-github",
        "colab_type": "text"
      },
      "source": [
        "<a href=\"https://colab.research.google.com/github/canaytsr/GlobalAIHubMachineLearningCourse/blob/main/Homeworks/Hw2.ipynb\" target=\"_parent\"><img src=\"https://colab.research.google.com/assets/colab-badge.svg\" alt=\"Open In Colab\"/></a>"
      ]
    },
    {
      "cell_type": "code",
      "metadata": {
        "id": "VZkT92uYPVgz",
        "colab": {
          "base_uri": "https://localhost:8080/"
        },
        "outputId": "af215bde-940b-4b67-f048-bdf9f35ef585"
      },
      "source": [
        "#Import Boston Dataset from sklearn dataset class\n",
        "from sklearn.datasets import load_boston\n",
        "import numpy as np\n",
        "\n",
        "boston = load_boston()\n",
        "print(boston.feature_names)\n",
        "print(type(boston))\n",
        "print(boston.data.shape)\n",
        "\n"
      ],
      "execution_count": null,
      "outputs": [
        {
          "output_type": "stream",
          "text": [
            "['CRIM' 'ZN' 'INDUS' 'CHAS' 'NOX' 'RM' 'AGE' 'DIS' 'RAD' 'TAX' 'PTRATIO'\n",
            " 'B' 'LSTAT']\n",
            "<class 'sklearn.utils.Bunch'>\n",
            "(506, 13)\n"
          ],
          "name": "stdout"
        }
      ]
    },
    {
      "cell_type": "code",
      "metadata": {
        "id": "ahUgSdqcZBrK"
      },
      "source": [
        "#Exploring and analysing raw data.\n",
        "import seaborn as sns\n",
        "import matplotlib.pyplot as plt\n",
        "import pandas as pd\n",
        "from pandas.plotting import scatter_matrix\n",
        "\n",
        "boston_pd = pd.DataFrame(boston.data)\n",
        "boston_pd.columns = boston.feature_names\n",
        "print(boston_pd.head())\n",
        "print(boston_pd.info())\n",
        "\n",
        "boston_pd.describe()# summary statistics\n",
        "\n",
        "B= pd.DataFrame(boston.data, columns = boston.feature_names)\n",
        "corr_df = B.corr()#corr_matrix\n",
        "print(corr_df)\n",
        "B.isna().sum()\n",
        "\n",
        "ax = sns.heatmap(corr_df,vmin=-1, vmax=1, center=0,cmap=sns.diverging_palette(20, 220, n=200),square=True)\n",
        "ax.set_xticklabels(ax.get_xticklabels(),rotation=45,horizontalalignment='right')\n",
        "\n",
        "boston_pd.isnull().sum()\n"
      ],
      "execution_count": null,
      "outputs": []
    },
    {
      "cell_type": "code",
      "metadata": {
        "id": "IKjICxl0ZRlh"
      },
      "source": [
        "#Do preprocessing for regression.\n",
        "from sklearn import preprocessing\n",
        "from sklearn.preprocessing import StandardScaler\n",
        "\n",
        "X, y = load_boston(return_X_y = True)\n",
        "print(X.shape)\n",
        "print(y.shape)\n",
        "\n",
        "X = boston_pd.drop(['CRIM'] ,axis=1)\n",
        "X1=preprocessing.scale(X)\n",
        "X1=pd.DataFrame(X1,columns=X.columns)\n",
        "\n",
        "y= boston_pd[['CRIM']]# original target variable \n",
        "y1=preprocessing.scale(y)\n",
        "y1=pd.DataFrame(y1,columns=y.columns)\n",
        "y1\n",
        "X1"
      ],
      "execution_count": null,
      "outputs": []
    },
    {
      "cell_type": "code",
      "metadata": {
        "id": "NZHxK8E5YUFO",
        "colab": {
          "base_uri": "https://localhost:8080/"
        },
        "outputId": "0ae6793f-219b-42d6-bdc7-b428467c01a7"
      },
      "source": [
        "# Split the data into a test set and a training set X_train, X_test, y_train, y_test = \n",
        "from sklearn.model_selection import train_test_split\n",
        "X_train, X_test, y_train,y_test=train_test_split(X, y,train_size=0.7, test_size=0.3, random_state=42) \n",
        "print(X_train.shape)\n"
      ],
      "execution_count": null,
      "outputs": [
        {
          "output_type": "stream",
          "text": [
            "(354, 12)\n"
          ],
          "name": "stdout"
        }
      ]
    },
    {
      "cell_type": "code",
      "metadata": {
        "id": "-Cg4Zi7riEr9"
      },
      "source": [
        "from sklearn.preprocessing import MinMaxScaler\n",
        "scaler = MinMaxScaler()\n",
        "X_train = scaler.fit_transform(X_train)\n",
        "X_train"
      ],
      "execution_count": null,
      "outputs": []
    },
    {
      "cell_type": "code",
      "metadata": {
        "id": "71AdhJ01YIum",
        "colab": {
          "base_uri": "https://localhost:8080/"
        },
        "outputId": "e28ac468-5f33-465d-a35f-e45e9f995215"
      },
      "source": [
        "#Try Ridge and Lasso Regression models with at least 5 different alpha value for each.\n",
        "from sklearn.linear_model import  LinearRegression,Ridge,Lasso\n",
        "ridge_model1 = Ridge(alpha = 0.001)\n",
        "ridge_model1.fit(X_train, y_train)\n",
        "print(f'Ridge model 1 coef: {ridge_model1.coef_}')\n",
        "print(\"\\n\")\n",
        "ridge_model2 = Ridge(alpha = 0.01)\n",
        "ridge_model2.fit(X_train, y_train)\n",
        "print(f'Ridge model 2 coef: {ridge_model2.coef_}')\n",
        "print(\"\\n\")\n",
        "ridge_model3 = Ridge(alpha = 0.05)\n",
        "ridge_model3.fit(X_train, y_train)\n",
        "print(f'Ridge model 3 coef: {ridge_model3.coef_}')\n",
        "print(\"\\n\")\n",
        "ridge_model4 = Ridge(alpha = 0.1)\n",
        "ridge_model4.fit(X_train, y_train)\n",
        "print(f'Ridge model 4 coef: {ridge_model4.coef_}')\n",
        "print(\"\\n\")\n",
        "ridge_model5 = Ridge(alpha = 1)\n",
        "ridge_model5.fit(X_train, y_train)\n",
        "print(f'Ridge model 5 coef: {ridge_model5.coef_}')\n",
        "print(\"\\n\")\n",
        "\n",
        "lasso_model1 = Lasso(alpha = 0.001)\n",
        "lasso_model1.fit(X_train, y_train)\n",
        "print(f'Lasso model 1 coef: {lasso_model1.coef_}')\n",
        "print(\"\\n\")\n",
        "lasso_model2 = Lasso(alpha = 0.01)\n",
        "lasso_model2.fit(X_train, y_train)\n",
        "print(f'Lasso model 2 coef: {lasso_model2.coef_}')\n",
        "print(\"\\n\")\n",
        "lasso_model3 = Lasso(alpha = 0.05)\n",
        "lasso_model3.fit(X_train, y_train)\n",
        "print(f'Lasso model 3 coef: {lasso_model3.coef_}')\n",
        "print(\"\\n\")\n",
        "lasso_model4 = Lasso(alpha = 0.1)\n",
        "lasso_model4.fit(X_train, y_train)\n",
        "print(f'Lasso model 4 coef: {lasso_model4.coef_}')\n",
        "print(\"\\n\")\n",
        "lasso_model5 = Lasso(alpha = 1)\n",
        "lasso_model5.fit(X_train, y_train)\n",
        "print(f'Lasso model 5 coef: {lasso_model5.coef_}')\n",
        "print(\"\\n\")"
      ],
      "execution_count": null,
      "outputs": [
        {
          "output_type": "stream",
          "text": [
            "Ridge model 1 coef: [[ 3.57842756 -0.2478381  -1.86272372 -4.76385723 -1.90326289  1.55133569\n",
            "  -7.70127752 13.07479189 -0.57353118 -1.12982223 -1.42516982  5.30637762]]\n",
            "\n",
            "\n",
            "Ridge model 2 coef: [[ 3.56756055 -0.25297013 -1.86119551 -4.74414193 -1.89735207  1.5515269\n",
            "  -7.67482003 13.05580672 -0.55288539 -1.12538242 -1.42581273  5.30018916]]\n",
            "\n",
            "\n",
            "Ridge model 3 coef: [[ 3.52022928 -0.2750091  -1.85451428 -4.65804309 -1.87167023  1.55230637\n",
            "  -7.55945693 12.97290358 -0.46302928 -1.10587525 -1.42863632  5.27285984]]\n",
            "\n",
            "\n",
            "Ridge model 4 coef: [[ 3.46319458 -0.30086786 -1.84640635 -4.5537967  -1.84085787  1.55312463\n",
            "  -7.4201738  12.87253013 -0.3549013  -1.08199449 -1.43208938  5.23910263]]\n",
            "\n",
            "\n",
            "Ridge model 5 coef: [[ 2.72114761 -0.54884475 -1.73245952 -3.1483606  -1.45270022  1.54657108\n",
            "  -5.58879747 11.50768856  1.03043386 -0.72736143 -1.48182862  4.70656213]]\n",
            "\n",
            "\n",
            "Lasso model 1 coef: [ 3.49780486 -0.24180651 -1.84740968 -4.63384616 -1.78797063  1.50762448\n",
            " -7.5396255  12.95826143 -0.44433609 -1.0857164  -1.40075974  5.29577612]\n",
            "\n",
            "\n",
            "Lasso model 2 coef: [ 2.91194926 -0.         -1.7416354  -3.35841666 -0.80759064  1.12511126\n",
            " -6.10784375 12.34116124 -0.         -0.62915721 -1.19805867  5.18066902]\n",
            "\n",
            "\n",
            "Lasso model 3 coef: [ 0.42333148  0.         -1.20459988 -0.         -0.          0.37299074\n",
            " -1.58315473 11.90530683  0.         -0.         -0.58783001  4.05826876]\n",
            "\n",
            "\n",
            "Lasso model 4 coef: [ 0.          0.         -0.48694646  0.         -0.          0.62296582\n",
            " -0.         12.08896657  0.         -0.         -0.          3.23990459]\n",
            "\n",
            "\n",
            "Lasso model 5 coef: [-0.          0.         -0.          0.         -0.          0.\n",
            " -0.          6.67923024  0.          0.         -0.          0.        ]\n",
            "\n",
            "\n"
          ],
          "name": "stdout"
        }
      ]
    },
    {
      "cell_type": "code",
      "metadata": {
        "id": "4NHdqem8U4vo",
        "colab": {
          "base_uri": "https://localhost:8080/"
        },
        "outputId": "95abc64f-f684-4cf4-eb6d-67ba6ac8be99"
      },
      "source": [
        "#Evaluate the results of all models and choose the best performing model.\n",
        "print('*************************')\n",
        "#Lasso\n",
        "print(\"Lasso Train 1: \", lasso_model1.score(X_train, y_train))\n",
        "print(\"Lasso Test 1: \", lasso_model1.score(X_test, y_test))\n",
        "print('*************************')\n",
        "print(\"Lasso Train 2: \", lasso_model2.score(X_train, y_train))\n",
        "print(\"Lasso Test 2: \", lasso_model4.score(X_test, y_test))\n",
        "print('*************************')\n",
        "print(\"Lasso Train 3: \", lasso_model3.score(X_train, y_train))\n",
        "print(\"Lasso Test 3: \", lasso_model3.score(X_test, y_test))\n",
        "print('*************************')\n",
        "print(\"Lasso Train 4: \", lasso_model4.score(X_train, y_train))\n",
        "print(\"Lasso Test 4: \", lasso_model4.score(X_test, y_test))\n",
        "print('*************************')\n",
        "print(\"Lasso Train 5: \", lasso_model5.score(X_train, y_train))\n",
        "print(\"Lasso Test 5: \", lasso_model5.score(X_test, y_test))\n",
        "print('*************************')\n",
        "#Ridge\n",
        "print(\"Ridge Train 1: \", ridge_model1.score(X_train, y_train))\n",
        "print(\"Ridge Test 1: \", ridge_model1.score(X_test, y_test))\n",
        "print('*************************')\n",
        "print(\"Ridge Train 2: \", ridge_model2.score(X_train, y_train))\n",
        "print(\"Ridge Test 2: \", ridge_model2.score(X_test, y_test))\n",
        "print('*************************')\n",
        "print(\"Ridge Train 3: \", ridge_model3.score(X_train, y_train))\n",
        "print(\"Ridge Test 3: \", ridge_model3.score(X_test, y_test))\n",
        "print('*************************')\n",
        "print(\"Ridge Train 4: \", ridge_model4.score(X_train, y_train))\n",
        "print(\"Ridge Test 4: \", ridge_model4.score(X_test, y_test))\n",
        "print('*************************')\n",
        "print(\"Ridge Train 5: \", ridge_model5.score(X_train, y_train))\n",
        "print(\"Ridge Test 5: \", ridge_model5.score(X_test, y_test))\n",
        "print('*************************')\n",
        "\n",
        "\n",
        "#best performing model is Lasso Regression model\n"
      ],
      "execution_count": null,
      "outputs": [
        {
          "output_type": "stream",
          "text": [
            "*************************\n",
            "Lasso Train 1:  0.4224818760181258\n",
            "Lasso Test 1:  -2356.348811538621\n",
            "*************************\n",
            "Lasso Train 2:  0.4214522763701364\n",
            "Lasso Test 2:  -646.1652627996583\n",
            "*************************\n",
            "Lasso Train 3:  0.41052985114420426\n",
            "Lasso Test 3:  -311.4872536222205\n",
            "*************************\n",
            "Lasso Train 4:  0.4030761254665351\n",
            "Lasso Test 4:  -646.1652627996583\n",
            "*************************\n",
            "Lasso Train 5:  0.28475507785627274\n",
            "Lasso Test 5:  -79.0924295600728\n",
            "*************************\n",
            "Ridge Train 1:  0.42249475908107814\n",
            "Ridge Test 1:  -2908.598532937504\n",
            "*************************\n",
            "Ridge Train 2:  0.42249446880534264\n",
            "Ridge Test 2:  -2830.3889450438305\n",
            "*************************\n",
            "Ridge Train 3:  0.42248763979073245\n",
            "Ridge Test 3:  -2511.159544223119\n",
            "*************************\n",
            "Ridge Train 4:  0.4224672629176939\n",
            "Ridge Test 4:  -2172.580721945512\n",
            "*************************\n",
            "Ridge Train 5:  0.42088018606854327\n",
            "Ridge Test 5:  -2191.3863557119753\n",
            "*************************\n"
          ],
          "name": "stdout"
        }
      ]
    }
  ]
}